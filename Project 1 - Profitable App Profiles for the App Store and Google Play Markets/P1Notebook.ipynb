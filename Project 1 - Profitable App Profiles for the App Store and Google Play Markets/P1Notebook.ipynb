{
 "cells": [
  {
   "cell_type": "markdown",
   "metadata": {},
   "source": [
    "## Profitable App Profiles for the App Store and Google Play Markets\n",
    "\n",
    "\n",
    "Our goal for this project is to analyze data to help our developers understand what type of apps are likely to attract more users."
   ]
  },
  {
   "cell_type": "code",
   "execution_count": 24,
   "metadata": {},
   "outputs": [],
   "source": [
    "opened_android_file = open('googleplaystore.csv')\n",
    "opened_ios_file = open('AppleStore.csv')\n",
    "from csv import reader\n",
    "read_android_file = reader(opened_android_file)\n",
    "read_ios_file = reader(opened_ios_file)\n",
    "android_apps_data = list(read_android_file)\n",
    "ios_apps_data = list(read_ios_file)"
   ]
  },
  {
   "cell_type": "code",
   "execution_count": 25,
   "metadata": {},
   "outputs": [],
   "source": [
    "def explore_data(dataset, start, end, rows_and_columns = False):\n",
    "    dataset_slice = dataset[start:end]\n",
    "    for row in dataset_slice:\n",
    "        print(row)\n",
    "        print('\\n')\n",
    "        \n",
    "    if rows_and_columns:\n",
    "        print('Number of rows:', len(dataset))\n",
    "        print('Number of columns:', len(dataset[0]))\n",
    "        "
   ]
  },
  {
   "cell_type": "code",
   "execution_count": 26,
   "metadata": {},
   "outputs": [
    {
     "name": "stdout",
     "output_type": "stream",
     "text": [
      "['Xposed Wi-Fi-Pwd', 'PERSONALIZATION', '3.5', '1042', '404k', '100,000+', 'Free', '0', 'Everyone', 'Personalization', 'August 5, 2014', '3.0.0', '4.0.3 and up']\n",
      "\n",
      "\n"
     ]
    }
   ],
   "source": [
    "explore_data(apps_data, 10472, 10473)"
   ]
  },
  {
   "cell_type": "markdown",
   "metadata": {},
   "source": [
    "Problem - Wrong rating for entry 10472"
   ]
  },
  {
   "cell_type": "code",
   "execution_count": 32,
   "metadata": {},
   "outputs": [
    {
     "name": "stdout",
     "output_type": "stream",
     "text": [
      "['App', 'Category', 'Rating', 'Reviews', 'Size', 'Installs', 'Type', 'Price', 'Content Rating', 'Genres', 'Last Updated', 'Current Ver', 'Android Ver']\n",
      "['Xposed Wi-Fi-Pwd', 'PERSONALIZATION', '3.5', '1042', '404k', '100,000+', 'Free', '0', 'Everyone', 'Personalization', 'August 5, 2014', '3.0.0', '4.0.3 and up']\n"
     ]
    }
   ],
   "source": [
    "print(android_apps_data[0])\n",
    "print(android_apps_data[10472])\n",
    "# looks like the error doesn't exists at this time, still we will remove the row for safety\n",
    "del android_apps_data[10472]"
   ]
  },
  {
   "cell_type": "markdown",
   "metadata": {},
   "source": [
    "Problem - Duplicate entries for apps"
   ]
  },
  {
   "cell_type": "code",
   "execution_count": 45,
   "metadata": {},
   "outputs": [],
   "source": [
    "#let's find out how many apps are repeated\n",
    "unique_apps = []\n",
    "duplicate_apps = []\n",
    "count = 0\n",
    "for item in android_apps_data[1:]:\n",
    "    name = item[0]\n",
    "    if name in unique_apps:\n",
    "        count += 1\n",
    "        duplicate_apps.append(name)\n",
    "    else:\n",
    "        unique_apps.append(name)"
   ]
  },
  {
   "cell_type": "code",
   "execution_count": 124,
   "metadata": {},
   "outputs": [
    {
     "name": "stdout",
     "output_type": "stream",
     "text": [
      "1181\n"
     ]
    }
   ],
   "source": [
    "print(count) #this will tell us how many apps are repeated\n",
    "# print(duplicate_apps) #this will tell us which apps are repeated"
   ]
  },
  {
   "cell_type": "code",
   "execution_count": 83,
   "metadata": {},
   "outputs": [],
   "source": [
    "#let's find the unique apps and remove all repeated data based on the number of reviews. More the reviews means more recent the data was collected.\n",
    "\n",
    "reviews_max = {}\n",
    "# reviews have the index 3\n",
    "for item in android_apps_data[1:]:\n",
    "    if item[0] in reviews_max:\n",
    "        if item[3] > reviews_max[item[0]][3]:\n",
    "            reviews_max[item[0]] = item\n",
    "    else:\n",
    "        reviews_max[item[0]] = item"
   ]
  },
  {
   "cell_type": "code",
   "execution_count": 84,
   "metadata": {},
   "outputs": [
    {
     "data": {
      "text/plain": [
       "9659"
      ]
     },
     "execution_count": 84,
     "metadata": {},
     "output_type": "execute_result"
    }
   ],
   "source": [
    "# reviews_max #this dict holds all the unique app names\n",
    "\n",
    "len(reviews_max)\n"
   ]
  },
  {
   "cell_type": "code",
   "execution_count": 86,
   "metadata": {},
   "outputs": [],
   "source": [
    "android_clean = [] #this will hold the data cleaned data\n",
    "for item in reviews_max:\n",
    "    android_clean.append(reviews_max[item])"
   ]
  },
  {
   "cell_type": "code",
   "execution_count": 90,
   "metadata": {},
   "outputs": [],
   "source": [
    "#android_clean #will print the cleaned data for android app market"
   ]
  },
  {
   "cell_type": "markdown",
   "metadata": {},
   "source": [
    "Problem - Remove all the non-english names from the ios apps data. It is given that the ios data has no repeated items."
   ]
  },
  {
   "cell_type": "code",
   "execution_count": 100,
   "metadata": {},
   "outputs": [
    {
     "name": "stdout",
     "output_type": "stream",
     "text": [
      "7197 7197\n"
     ]
    }
   ],
   "source": [
    "#Still checking if there are any repeated values in the ios apps data. Using the 'id' column.\n",
    "\n",
    "original_len = len(ios_apps_data[1:])\n",
    "expected_len = 0\n",
    "\n",
    "test_dict = {}\n",
    "\n",
    "for item in ios_apps_data[1:]:\n",
    "    test_dict[item[0]] = item\n",
    "    \n",
    "expected_len = len(test_dict)\n",
    "\n",
    "print(original_len, expected_len) #proves that there are no repeated values."
   ]
  },
  {
   "cell_type": "code",
   "execution_count": 120,
   "metadata": {},
   "outputs": [],
   "source": [
    "#coming back to the problem, checking for all non-english names and removing them.\n",
    "def checkStr(teststr): #this function will return true if the app names looks like it is in english language\n",
    "    count = 0\n",
    "    for char in teststr:\n",
    "        if ord(char) > 127:\n",
    "            count += 1\n",
    "        if count > 3:\n",
    "            return False\n",
    "    return True"
   ]
  },
  {
   "cell_type": "code",
   "execution_count": 122,
   "metadata": {},
   "outputs": [
    {
     "name": "stdout",
     "output_type": "stream",
     "text": [
      "True\n"
     ]
    }
   ],
   "source": [
    "print(checkStr(\"Docs To Go™ Free Office Suite 😜\"))"
   ]
  },
  {
   "cell_type": "markdown",
   "metadata": {},
   "source": [
    "Problem - Check if the apps are free to download and install."
   ]
  },
  {
   "cell_type": "code",
   "execution_count": 147,
   "metadata": {},
   "outputs": [
    {
     "name": "stdout",
     "output_type": "stream",
     "text": [
      "4056 7197\n",
      "8902 9659\n"
     ]
    }
   ],
   "source": [
    "#find out free apps from both the datsets - android_clean and ios_apps_data\n",
    "\n",
    "free_ios_apps = []\n",
    "free_android_apps = []\n",
    "\n",
    "for item in ios_apps_data[1:]:\n",
    "    price = float(item[4])\n",
    "    if price == 0.0:\n",
    "        free_ios_apps.append(item)\n",
    "        \n",
    "print(len(free_ios_apps), len(ios_apps_data[1:])) #this shows that there are 4056 free ios apps out of total 7197 apps\n",
    "\n",
    "\n",
    "for item in android_clean:\n",
    "    price = item[7]\n",
    "    if price == '0':\n",
    "        free_android_apps.append(item)\n",
    "        \n",
    "print(len(free_android_apps), len(android_clean)) #this shows that there are 8902 free android apps out of total 9659 apps."
   ]
  },
  {
   "cell_type": "markdown",
   "metadata": {},
   "source": [
    "#### GOAL: If the app is profitable after six months, we build an iOS version of the app and add it to the App Store."
   ]
  },
  {
   "cell_type": "code",
   "execution_count": 164,
   "metadata": {},
   "outputs": [],
   "source": [
    "#let's find out the genres in decsending order\n",
    "# genres = index 9\n",
    "\n",
    "def freq_table(dataset, index):\n",
    "    freq = {}\n",
    "    total = 0\n",
    "    for item in dataset[1:]:\n",
    "        total += 1\n",
    "        if item[index] in freq:\n",
    "            freq[item[index]] += 1\n",
    "        else:\n",
    "            freq[item[index]] = 1\n",
    "    #calculating the percentages\n",
    "    for row in freq:\n",
    "        freq[row] = (freq[row] / total) * 100    \n",
    "    return freq\n",
    "\n",
    "#function to show the frequency table in a sorted fashion\n",
    "def display_table(dataset, index):\n",
    "    table = freq_table(dataset, index)\n",
    "    table_display = []\n",
    "    for key in table:\n",
    "        key_val_as_tuple = (table[key], key)\n",
    "        table_display.append(key_val_as_tuple)\n",
    "        \n",
    "    table_sorted = sorted(table_display, reverse = True)\n",
    "    for entry in table_sorted:\n",
    "        print(entry[1], ':', entry[0])"
   ]
  },
  {
   "cell_type": "code",
   "execution_count": 165,
   "metadata": {},
   "outputs": [
    {
     "name": "stdout",
     "output_type": "stream",
     "text": [
      "Games : 53.66124774211477\n",
      "Entertainment : 7.433652910935113\n",
      "Education : 6.294289287203002\n",
      "Photo & Video : 4.849242740030569\n",
      "Utilities : 3.4458802278727245\n",
      "Health & Fitness : 2.501042100875365\n",
      "Productivity : 2.473252744198972\n",
      "Social Networking : 2.3204112824788106\n",
      "Lifestyle : 2.0008336807002918\n",
      "Music : 1.9174656106711132\n",
      "Shopping : 1.6951507572599693\n",
      "Sports : 1.5839933305543976\n",
      "Book : 1.5562039738780047\n",
      "Finance : 1.445046547172433\n",
      "Travel : 1.1254689453939142\n",
      "News : 1.0421008753647354\n",
      "Weather : 1.0004168403501459\n",
      "Reference : 0.8892594136445742\n",
      "Food & Drink : 0.8753647353063776\n",
      "Business : 0.7919966652771988\n",
      "Navigation : 0.6391552035570377\n",
      "Medical : 0.31957760177851885\n",
      "Catalogs : 0.1389467833819647\n"
     ]
    }
   ],
   "source": [
    "display_table(ios_apps_data, 11)\n"
   ]
  },
  {
   "cell_type": "code",
   "execution_count": null,
   "metadata": {},
   "outputs": [],
   "source": []
  }
 ],
 "metadata": {
  "kernelspec": {
   "display_name": "Python 3",
   "language": "python",
   "name": "python3"
  },
  "language_info": {
   "codemirror_mode": {
    "name": "ipython",
    "version": 3
   },
   "file_extension": ".py",
   "mimetype": "text/x-python",
   "name": "python",
   "nbconvert_exporter": "python",
   "pygments_lexer": "ipython3",
   "version": "3.7.6"
  }
 },
 "nbformat": 4,
 "nbformat_minor": 4
}
