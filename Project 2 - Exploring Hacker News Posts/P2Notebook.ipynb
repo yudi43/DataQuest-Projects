{
 "cells": [
  {
   "cell_type": "markdown",
   "metadata": {},
   "source": [
    "## Exploring Hacker News Posts"
   ]
  },
  {
   "cell_type": "markdown",
   "metadata": {},
   "source": [
    "Analysing hacker news posts, HackerNews is a website where news about startups and tech are posted."
   ]
  },
  {
   "cell_type": "code",
   "execution_count": 1,
   "metadata": {},
   "outputs": [],
   "source": [
    "from csv import reader\n",
    "open_file = open('HN_posts_year_to_Sep_26_2016.csv')\n",
    "read_file = reader(open_file)\n",
    "hn_data = list(read_file)"
   ]
  },
  {
   "cell_type": "code",
   "execution_count": 6,
   "metadata": {},
   "outputs": [
    {
     "name": "stdout",
     "output_type": "stream",
     "text": [
      "[['id', 'title', 'url', 'num_points', 'num_comments', 'author', 'created_at'], ['12579008', 'You have two days to comment if you want stem cells to be classified as your own', 'http://www.regulations.gov/document?D=FDA-2015-D-3719-0018', '1', '0', 'altstar', '9/26/2016 3:26'], ['12579005', 'SQLAR  the SQLite Archiver', 'https://www.sqlite.org/sqlar/doc/trunk/README.md', '1', '0', 'blacksqr', '9/26/2016 3:24'], ['12578997', 'What if we just printed a flatscreen television on the side of our boxes?', 'https://medium.com/vanmoof/our-secrets-out-f21c1f03fdc8#.ietxmez43', '1', '0', 'pavel_lishin', '9/26/2016 3:19'], ['12578989', 'algorithmic music', 'http://cacm.acm.org/magazines/2011/7/109891-algorithmic-composition/fulltext', '1', '0', 'poindontcare', '9/26/2016 3:16']]\n"
     ]
    }
   ],
   "source": [
    "print(hn_data[0:5])"
   ]
  },
  {
   "cell_type": "code",
   "execution_count": 7,
   "metadata": {},
   "outputs": [
    {
     "name": "stdout",
     "output_type": "stream",
     "text": [
      "['id', 'title', 'url', 'num_points', 'num_comments', 'author', 'created_at']\n",
      "[['12579008', 'You have two days to comment if you want stem cells to be classified as your own', 'http://www.regulations.gov/document?D=FDA-2015-D-3719-0018', '1', '0', 'altstar', '9/26/2016 3:26'], ['12579005', 'SQLAR  the SQLite Archiver', 'https://www.sqlite.org/sqlar/doc/trunk/README.md', '1', '0', 'blacksqr', '9/26/2016 3:24'], ['12578997', 'What if we just printed a flatscreen television on the side of our boxes?', 'https://medium.com/vanmoof/our-secrets-out-f21c1f03fdc8#.ietxmez43', '1', '0', 'pavel_lishin', '9/26/2016 3:19'], ['12578989', 'algorithmic music', 'http://cacm.acm.org/magazines/2011/7/109891-algorithmic-composition/fulltext', '1', '0', 'poindontcare', '9/26/2016 3:16'], ['12578979', 'How the Data Vault Enables the Next-Gen Data Warehouse and Data Lake', 'https://www.talend.com/blog/2016/05/12/talend-and-Â\\x93the-data-vaultÂ\\x94', '1', '0', 'markgainor1', '9/26/2016 3:14']]\n"
     ]
    }
   ],
   "source": [
    "#Create another column of the headers and remove the headers column from the actual dataset.\n",
    "\n",
    "headers = hn_data[0]\n",
    "del hn_data[0]\n",
    "\n",
    "print(headers)\n",
    "print(hn_data[0:5])"
   ]
  },
  {
   "cell_type": "code",
   "execution_count": 10,
   "metadata": {},
   "outputs": [],
   "source": [
    "# Now we are only concerned with the posts that begin either with \"Ask HN\" or \"Show HN\"\n",
    "#TASK: Create three separate lists for 'ask_posts', 'show_posts', and others.\n",
    "ask_posts = []\n",
    "show_posts = []\n",
    "other_posts = []\n",
    "\n",
    "for row in hn_data:\n",
    "    title = row[1]\n",
    "    if title.startswith('Ask HN'):\n",
    "        ask_posts.append(row)\n",
    "    elif title.startswith('Show HN'):\n",
    "        show_posts.append(row)\n",
    "    else:\n",
    "        other_posts.append(row)"
   ]
  },
  {
   "cell_type": "code",
   "execution_count": 17,
   "metadata": {},
   "outputs": [
    {
     "name": "stdout",
     "output_type": "stream",
     "text": [
      "9122\n",
      "10150\n",
      "273847\n"
     ]
    }
   ],
   "source": [
    "print(len(ask_posts)) #shows that there are 9122 posts for 'ask HN'\n",
    "print(len(show_posts)) #shows that there are 10150 posts for 'show HN'\n",
    "print(len(other_posts)) #shows that there are 273847 posts for 'other posts'"
   ]
  },
  {
   "cell_type": "markdown",
   "metadata": {},
   "source": [
    "##### TASK: Analyse which kind of posts get more comments."
   ]
  },
  {
   "cell_type": "code",
   "execution_count": 22,
   "metadata": {},
   "outputs": [
    {
     "name": "stdout",
     "output_type": "stream",
     "text": [
      "Average for show comments: 4.888374384236453\n",
      "Average for ask comments: 10.406709055031792\n"
     ]
    }
   ],
   "source": [
    "total_ask_comments = 0\n",
    "\n",
    "for item in ask_posts:\n",
    "    num_comments = int(item[4])\n",
    "    total_ask_comments += num_comments\n",
    "avg_ask_comments = total_ask_comments / len(ask_posts)\n",
    "\n",
    "total_show_comments = 0\n",
    "for item in show_posts:\n",
    "    num_comments = int(item[4])\n",
    "    total_show_comments += num_comments\n",
    "avg_show_comments = total_show_comments / len(show_posts)\n",
    "\n",
    "print(\"Average for show comments: \" + str(avg_show_comments))\n",
    "print(\"Average for ask comments: \" + str(avg_ask_comments))\n",
    "\n",
    "    \n",
    "#Analysis shows us that avg comments of show posts is 4.88 and for ask post is 10.40"
   ]
  },
  {
   "cell_type": "markdown",
   "metadata": {},
   "source": [
    "##### Since analysis tells us that ask posts recieve more comments, let's analyse show posts now."
   ]
  },
  {
   "cell_type": "markdown",
   "metadata": {},
   "source": [
    "##### We'll determine if ask posts created at a certain time are more likely to attract comments."
   ]
  },
  {
   "cell_type": "code",
   "execution_count": 24,
   "metadata": {},
   "outputs": [],
   "source": [
    "import datetime as dt\n",
    "result_list = []\n",
    "\n",
    "for item in ask_posts:\n",
    "    created_at = item[6]\n",
    "    num_of_comments = int(item[4])\n",
    "    list_item = [created_at, num_of_comments]\n",
    "    result_list.append(list_item)\n"
   ]
  },
  {
   "cell_type": "code",
   "execution_count": 39,
   "metadata": {},
   "outputs": [],
   "source": [
    "counts_by_hour = {}\n",
    "comments_by_hour = {}\n",
    "\n",
    "for item in result_list:\n",
    "    date = item[0]\n",
    "    datetime_obj = dt.datetime.strptime(date, \"%m/%d/%Y %H:%M\")\n",
    "    hour = datetime_obj.strftime(\"%H\")\n",
    "    if hour in counts_by_hour:\n",
    "        counts_by_hour[hour] += 1\n",
    "        comments_by_hour[hour] += item[1]\n",
    "    else:\n",
    "        counts_by_hour[hour] = 1\n",
    "        comments_by_hour[hour] = item[1]\n",
    "        \n",
    "    "
   ]
  },
  {
   "cell_type": "code",
   "execution_count": 52,
   "metadata": {},
   "outputs": [
    {
     "name": "stdout",
     "output_type": "stream",
     "text": [
      "The following table shows the frequency of post counts with respect to the hour\n",
      "\n",
      "00 299\n",
      "01 282\n",
      "02 269\n",
      "03 270\n",
      "04 242\n",
      "05 209\n",
      "06 234\n",
      "07 225\n",
      "08 257\n",
      "09 222\n",
      "10 282\n",
      "11 310\n",
      "12 342\n",
      "13 442\n",
      "14 512\n",
      "15 646\n",
      "16 578\n",
      "17 587\n",
      "18 612\n",
      "19 551\n",
      "20 510\n",
      "21 516\n",
      "22 382\n",
      "23 343\n",
      "\n",
      "The following table shows the frequecy of comments count with respect the the hour\n",
      "\n",
      "00 2265\n",
      "01 2089\n",
      "02 2996\n",
      "03 2153\n",
      "04 2358\n",
      "05 1838\n",
      "06 1587\n",
      "07 1584\n",
      "08 2362\n",
      "09 1477\n",
      "10 3013\n",
      "11 2794\n",
      "12 4234\n",
      "13 7227\n",
      "14 4970\n",
      "15 18525\n",
      "16 4461\n",
      "17 5547\n",
      "18 4868\n",
      "19 3954\n",
      "20 4462\n",
      "21 4500\n",
      "22 3369\n",
      "23 2297\n"
     ]
    }
   ],
   "source": [
    "print(\"The following table shows the frequency of post counts with respect to the hour\")\n",
    "print()\n",
    "for item in sorted(counts_by_hour):\n",
    "    print(item, counts_by_hour[item])\n",
    "print()\n",
    "print(\"The following table shows the frequecy of comments count with respect the the hour\")\n",
    "print()\n",
    "for item in sorted(comments_by_hour):\n",
    "    print(item, comments_by_hour[item])\n"
   ]
  },
  {
   "cell_type": "markdown",
   "metadata": {},
   "source": [
    "##### Find the average number of comments per post for each hour of the day."
   ]
  },
  {
   "cell_type": "code",
   "execution_count": 60,
   "metadata": {},
   "outputs": [
    {
     "name": "stdout",
     "output_type": "stream",
     "text": [
      "[['02', 11.137546468401487], ['01', 7.407801418439717], ['22', 8.819371727748692], ['21', 8.720930232558139], ['19', 7.176043557168784], ['17', 9.449744463373083], ['15', 28.676470588235293], ['14', 9.70703125], ['13', 16.350678733031675], ['11', 9.012903225806452], ['10', 10.684397163120567], ['09', 6.653153153153153], ['07', 7.04], ['03', 7.974074074074074], ['23', 6.696793002915452], ['20', 8.749019607843136], ['16', 7.717993079584775], ['08', 9.190661478599221], ['00', 7.575250836120401], ['18', 7.954248366013072], ['12', 12.380116959064328], ['04', 9.743801652892563], ['06', 6.782051282051282], ['05', 8.794258373205741]]\n"
     ]
    }
   ],
   "source": [
    "avg_by_hour = []\n",
    "for item in counts_by_hour:\n",
    "    result = [item, comments_by_hour[item] / counts_by_hour[item]] #first item is the hour of the day and second item is the average number of comments per post during thar hour.\n",
    "    avg_by_hour.append(result)\n",
    "print(avg_by_hour)"
   ]
  },
  {
   "cell_type": "markdown",
   "metadata": {},
   "source": [
    "#### Conclusion"
   ]
  },
  {
   "cell_type": "code",
   "execution_count": 79,
   "metadata": {},
   "outputs": [
    {
     "name": "stdout",
     "output_type": "stream",
     "text": [
      "Top 5 hours for Ask Posts Comments:\n",
      "15.00 28.68\n",
      "13.00 16.35\n",
      "12.00 12.38\n",
      "02.00 11.14\n",
      "10.00 10.68\n"
     ]
    }
   ],
   "source": [
    "swap_avg_by_hour = []\n",
    "for item in avg_by_hour:\n",
    "    swapped_row = [item[1], item[0]]\n",
    "    swap_avg_by_hour.append(swapped_row)\n",
    "\n",
    "sorted_swap = sorted(swap_avg_by_hour, reverse=True)\n",
    "\n",
    "print(\"Top 5 hours for Ask Posts Comments:\")\n",
    "\n",
    "for item in sorted_swap[:5]:\n",
    "    print(\"{}.00 {:.2f}\".format(item[1], item[0]))\n"
   ]
  },
  {
   "cell_type": "code",
   "execution_count": null,
   "metadata": {},
   "outputs": [],
   "source": []
  }
 ],
 "metadata": {
  "kernelspec": {
   "display_name": "Python 3",
   "language": "python",
   "name": "python3"
  },
  "language_info": {
   "codemirror_mode": {
    "name": "ipython",
    "version": 3
   },
   "file_extension": ".py",
   "mimetype": "text/x-python",
   "name": "python",
   "nbconvert_exporter": "python",
   "pygments_lexer": "ipython3",
   "version": "3.7.6"
  }
 },
 "nbformat": 4,
 "nbformat_minor": 4
}
